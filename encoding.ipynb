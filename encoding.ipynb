{
 "cells": [
  {
   "cell_type": "markdown",
   "id": "cc53dd60-2176-45b1-b4f3-cb00e2d1083c",
   "metadata": {},
   "source": [
    "### Q7. Given an encoded string, return its decoded string. The encoding rule is: k[encoded_string], where the encoded_string inside the square brackets is being repeated exactly k times. Note that k is guaranteed to be a positive integer. You may assume that the input string is always valid; there are no extra white spaces, square brackets are well-formed, etc. Furthermore, you may assume that the original data does not contain any digits and that digits are only for those repeat numbers, k. For example, there will not be input like 3a or 2[4]. The test cases are generated so that the length of the output will never exceed 105."
   ]
  },
  {
   "cell_type": "code",
   "execution_count": 2,
   "id": "11fdbaf6-24a2-4301-a8bb-f37fce3db5cc",
   "metadata": {},
   "outputs": [],
   "source": [
    "def encoding(s):\n",
    "    stack = []\n",
    "    num = 0\n",
    "    res = \"\"\n",
    "\n",
    "    for c in s:\n",
    "        if c.isdigit():\n",
    "            num = num * 10 + int(c)\n",
    "        elif c == \"[\":\n",
    "            stack.append((num, res))\n",
    "            num = 0\n",
    "            res = \"\"\n",
    "        elif c == \"]\":\n",
    "            prev_num, prev_res = stack.pop()\n",
    "            res = prev_res + prev_num * res\n",
    "        else:\n",
    "            res += c\n",
    "\n",
    "    return res\n"
   ]
  },
  {
   "cell_type": "code",
   "execution_count": 3,
   "id": "709242c6-c755-4eff-bd9c-93fc4d0012a1",
   "metadata": {},
   "outputs": [
    {
     "name": "stdout",
     "output_type": "stream",
     "text": [
      "aaabcbc\n"
     ]
    }
   ],
   "source": [
    "s = \"3[a]2[bc]\"\n",
    "result = encoding(s)\n",
    "print(result)"
   ]
  },
  {
   "cell_type": "code",
   "execution_count": null,
   "id": "f71d0b25-df1f-4efd-98f0-8a5d5595efdf",
   "metadata": {},
   "outputs": [],
   "source": []
  }
 ],
 "metadata": {
  "kernelspec": {
   "display_name": "Python 3 (ipykernel)",
   "language": "python",
   "name": "python3"
  },
  "language_info": {
   "codemirror_mode": {
    "name": "ipython",
    "version": 3
   },
   "file_extension": ".py",
   "mimetype": "text/x-python",
   "name": "python",
   "nbconvert_exporter": "python",
   "pygments_lexer": "ipython3",
   "version": "3.10.6"
  }
 },
 "nbformat": 4,
 "nbformat_minor": 5
}

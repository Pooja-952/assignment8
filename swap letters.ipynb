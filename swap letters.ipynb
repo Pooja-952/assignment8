{
 "cells": [
  {
   "cell_type": "markdown",
   "id": "a73c3960-d982-46ab-ad26-fd18527aee54",
   "metadata": {},
   "source": [
    "### Q8. Given two strings s and goal, return true *if you can swap two letters in* s *so the result is equal to* goal*, otherwise, return* false*.* Swapping letters is defined as taking two indices i and j (0-indexed) such that i != j and swapping the characters at s[i] and s[j]."
   ]
  },
  {
   "cell_type": "code",
   "execution_count": 3,
   "id": "cd73f114-6831-48ac-a6e7-fbe83349d5f6",
   "metadata": {},
   "outputs": [],
   "source": [
    "def letterSwap(s, goal):\n",
    "    m = len(s)\n",
    "    n = len(goal)\n",
    "    if m != n:\n",
    "        return False\n",
    "    \n",
    "    count = 0\n",
    "    diff_p1 = -1\n",
    "    diff_p2 = -1\n",
    "   \n",
    "    for i in range (len(s)):\n",
    "        if s[i] != goal[i]:\n",
    "            count += 1\n",
    "            if count == 1:\n",
    "                diff_p1 = i\n",
    "            elif count == 2:\n",
    "                diff_p2 = i\n",
    "            else:\n",
    "                return False\n",
    "    return count == 2 and s[diff_p1] == goal[diff_p2] and s[diff_p2] == goal[diff_p1]\n",
    "               "
   ]
  },
  {
   "cell_type": "code",
   "execution_count": 5,
   "id": "57108975-ab12-4338-b985-f395c9a7bb4a",
   "metadata": {},
   "outputs": [
    {
     "name": "stdout",
     "output_type": "stream",
     "text": [
      "True\n"
     ]
    }
   ],
   "source": [
    "s = \"ab\"\n",
    "goal = \"ba\"\n",
    "result = letterSwap(s, goal)\n",
    "print(result)"
   ]
  },
  {
   "cell_type": "code",
   "execution_count": null,
   "id": "43672a53-6734-4c85-8e19-626426e7590f",
   "metadata": {},
   "outputs": [],
   "source": []
  }
 ],
 "metadata": {
  "kernelspec": {
   "display_name": "Python 3 (ipykernel)",
   "language": "python",
   "name": "python3"
  },
  "language_info": {
   "codemirror_mode": {
    "name": "ipython",
    "version": 3
   },
   "file_extension": ".py",
   "mimetype": "text/x-python",
   "name": "python",
   "nbconvert_exporter": "python",
   "pygments_lexer": "ipython3",
   "version": "3.10.6"
  }
 },
 "nbformat": 4,
 "nbformat_minor": 5
}

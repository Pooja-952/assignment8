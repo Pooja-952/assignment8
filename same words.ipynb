{
 "cells": [
  {
   "cell_type": "markdown",
   "id": "1441336a-4004-47c3-9057-d43ee309c47d",
   "metadata": {},
   "source": [
    "## Q3. Given two strings word1 and word2, return *the minimum number of **steps** required to make* word1 *and* word2 *the same*. In one **step**, you can delete exactly one character in either string."
   ]
  },
  {
   "cell_type": "code",
   "execution_count": 1,
   "id": "2720397d-4d6f-4f8c-a5c1-95f176fc6ce9",
   "metadata": {},
   "outputs": [],
   "source": [
    "def wordChange(word1, word2):\n",
    "    m= len(word1)\n",
    "    n= len(word2)\n",
    "    dp = [[0] *(n + 1) for _ in range(m + 1)]\n",
    "    \n",
    "    for i in range(1, m + 1):\n",
    "        for j in range(1, n + 1):\n",
    "            if word1[i - 1] == word2[j - 1]:\n",
    "                dp[i][j] = dp[i - 1][j - 1] + 1\n",
    "            else:\n",
    "                dp[i][j] = max(dp[i - 1][j], dp[i][j - 1])\n",
    "           \n",
    "    return (m - dp[m][n]) + (n - dp[m][n])       \n",
    "           "
   ]
  },
  {
   "cell_type": "code",
   "execution_count": 3,
   "id": "16a11820-fc1e-497c-b9f9-ed8f078553d4",
   "metadata": {},
   "outputs": [
    {
     "name": "stdout",
     "output_type": "stream",
     "text": [
      "2\n"
     ]
    }
   ],
   "source": [
    "word1 = \"sea\"\n",
    "word2 = \"eat\"\n",
    "result = wordChange(word1, word2)\n",
    "print(result)"
   ]
  },
  {
   "cell_type": "code",
   "execution_count": null,
   "id": "2b04e91d-1497-497d-abf1-6853fb5ddbab",
   "metadata": {},
   "outputs": [],
   "source": []
  }
 ],
 "metadata": {
  "kernelspec": {
   "display_name": "Python 3 (ipykernel)",
   "language": "python",
   "name": "python3"
  },
  "language_info": {
   "codemirror_mode": {
    "name": "ipython",
    "version": 3
   },
   "file_extension": ".py",
   "mimetype": "text/x-python",
   "name": "python",
   "nbconvert_exporter": "python",
   "pygments_lexer": "ipython3",
   "version": "3.10.6"
  }
 },
 "nbformat": 4,
 "nbformat_minor": 5
}

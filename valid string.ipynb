{
 "cells": [
  {
   "cell_type": "markdown",
   "id": "888a3586-8544-4cfc-a770-3d9293831894",
   "metadata": {},
   "source": [
    "## Q2. Given a string s containing only three types of characters: '(', ')' and '*', return true if s is valid."
   ]
  },
  {
   "cell_type": "code",
   "execution_count": 6,
   "id": "0226ca39-6f66-4dea-9e7e-e3a4fc0ef606",
   "metadata": {},
   "outputs": [],
   "source": [
    "def stringValid(s):\n",
    "    stack = []\n",
    "    stack_star = []\n",
    "    n = len(s)\n",
    "    \n",
    "    for c in s:\n",
    "        if c == '(':\n",
    "            stack.append(c)\n",
    "            stack_star.append(c)\n",
    "            \n",
    "        elif c == '*':\n",
    "            if stack:\n",
    "                stack.pop()\n",
    "            elif stack_star:\n",
    "                stack_star.pop()\n",
    "            else:\n",
    "                return False\n",
    "     \n",
    "    while stack and stack_star:\n",
    "        if stack.pop() > stack_star.pop():\n",
    "            return False\n",
    "        \n",
    "    return not stack    \n",
    "            "
   ]
  },
  {
   "cell_type": "code",
   "execution_count": 7,
   "id": "f255ed07-8434-4420-8368-b59fd9f7c0c5",
   "metadata": {},
   "outputs": [
    {
     "name": "stdout",
     "output_type": "stream",
     "text": [
      "True\n"
     ]
    }
   ],
   "source": [
    "s = \"()\"\n",
    "result = stringValid(s)\n",
    "print(result)"
   ]
  },
  {
   "cell_type": "code",
   "execution_count": null,
   "id": "49c03c6e-8af3-4e7b-8960-83000692b65f",
   "metadata": {},
   "outputs": [],
   "source": []
  }
 ],
 "metadata": {
  "kernelspec": {
   "display_name": "Python 3 (ipykernel)",
   "language": "python",
   "name": "python3"
  },
  "language_info": {
   "codemirror_mode": {
    "name": "ipython",
    "version": 3
   },
   "file_extension": ".py",
   "mimetype": "text/x-python",
   "name": "python",
   "nbconvert_exporter": "python",
   "pygments_lexer": "ipython3",
   "version": "3.10.6"
  }
 },
 "nbformat": 4,
 "nbformat_minor": 5
}

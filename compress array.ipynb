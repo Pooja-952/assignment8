{
 "cells": [
  {
   "cell_type": "markdown",
   "id": "c803f4f9-fc8b-4bdb-ba5c-2eb8995dd40a",
   "metadata": {},
   "source": [
    "### Q5. Given an array of characters chars, compress it using the following algorithm:\n",
    "Begin with an empty string s. For each group of **consecutive repeating characters** in chars:\n",
    "- If the group's length is 1, append the character to s.\n",
    "- Otherwise, append the character followed by the group's length.\n",
    "The compressed string s **should not be returned separately**, but instead, be stored **in the input character array chars**. Note that group lengths that are 10 or longer will be split into multiple characters in chars. After you are done **modifying the input array,** return *the new length of the array*. You must write an algorithm that uses only constant extra space."
   ]
  },
  {
   "cell_type": "code",
   "execution_count": 14,
   "id": "222d35e9-a009-413a-bf86-98080b67d80b",
   "metadata": {},
   "outputs": [],
   "source": [
    "def compress(chars):\n",
    "    left = right = 0\n",
    "    count = 1\n",
    "    \n",
    "    for i in range(1, len(chars)):\n",
    "        if chars[i] == chars[left]:\n",
    "            count += 1\n",
    "        else:\n",
    "            chars[right] == chars[left]\n",
    "            right += 1\n",
    "            \n",
    "            if count > 1:\n",
    "                count_str = str(count)\n",
    "                for j in range(len(count_str)):\n",
    "                    chars[right] = count_str[j]\n",
    "                    right += 1\n",
    "                    \n",
    "            left = i\n",
    "            count = 1\n",
    "            \n",
    "    chars[right] = chars[left]\n",
    "    right += 1\n",
    "    \n",
    "    if count > 1:\n",
    "        count_str = str(count)\n",
    "        for j in range(len(count_str)):\n",
    "            chars[right] = count_str[j]\n",
    "            right += 1\n",
    "            \n",
    "    return right        \n",
    "            "
   ]
  },
  {
   "cell_type": "code",
   "execution_count": 17,
   "id": "c2c9bb9b-fed7-4b2d-b08e-ec6301fcb347",
   "metadata": {},
   "outputs": [
    {
     "name": "stdout",
     "output_type": "stream",
     "text": [
      "6\n",
      "['a', '2', 'b', '2', 'c', '3']\n"
     ]
    }
   ],
   "source": [
    "chars = [\"a\",\"a\",\"b\",\"b\",\"c\",\"c\",\"c\"]\n",
    "consecutive_repeating_char = compress(chars)\n",
    "print(consecutive_repeating_char)\n",
    "print(chars[:consecutive_repeating_char])"
   ]
  },
  {
   "cell_type": "code",
   "execution_count": null,
   "id": "67adcf47-6bd4-4fb4-b789-adfae9b192d0",
   "metadata": {},
   "outputs": [],
   "source": []
  }
 ],
 "metadata": {
  "kernelspec": {
   "display_name": "Python 3 (ipykernel)",
   "language": "python",
   "name": "python3"
  },
  "language_info": {
   "codemirror_mode": {
    "name": "ipython",
    "version": 3
   },
   "file_extension": ".py",
   "mimetype": "text/x-python",
   "name": "python",
   "nbconvert_exporter": "python",
   "pygments_lexer": "ipython3",
   "version": "3.10.6"
  }
 },
 "nbformat": 4,
 "nbformat_minor": 5
}

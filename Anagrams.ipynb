{
 "cells": [
  {
   "cell_type": "markdown",
   "id": "89affc0d-cd5b-4fcf-b31c-cc2006d740ce",
   "metadata": {},
   "source": [
    "### Q6. Given two strings s and p, return *an array of all the start indices of* p*'s anagrams in* s. You may return the answer in **any order**. An **Anagram** is a word or phrase formed by rearranging the letters of a different word or phrase, typically using all the original letters exactly once."
   ]
  },
  {
   "cell_type": "code",
   "execution_count": 23,
   "id": "9b20c1b3-5149-43c4-a5bc-6c26954ed0a5",
   "metadata": {},
   "outputs": [],
   "source": [
    "from collections import defaultdict\n",
    "\n",
    "def findAnagrams(s, p):\n",
    "    result = []\n",
    "    p_count = defaultdict(int)\n",
    "    s_count = defaultdict(int)\n",
    "    \n",
    "    for char in p:\n",
    "        p_count[char] += 1\n",
    "    \n",
    "    left = right = 0\n",
    "    \n",
    "    while right < len(s):\n",
    "        s_count[s[right]] += 1\n",
    "        \n",
    "        if right - left + 1 > len(p):\n",
    "            s_count[s[left]] -= 1\n",
    "            if s_count[s[left]] == 0:\n",
    "                del s_count[s[left]]\n",
    "            left += 1\n",
    "        \n",
    "        if p_count == s_count:\n",
    "            result.append(left)\n",
    "        \n",
    "        right += 1\n",
    "    \n",
    "    return result\n"
   ]
  },
  {
   "cell_type": "code",
   "execution_count": 24,
   "id": "51a3a233-7d2b-4b10-a249-cbcf1a0da78a",
   "metadata": {},
   "outputs": [
    {
     "name": "stdout",
     "output_type": "stream",
     "text": [
      "[0, 6]\n"
     ]
    }
   ],
   "source": [
    "s = \"cbaebabacd\"\n",
    "p = \"abc\"\n",
    "rearrange = findAnagrams(s, p)\n",
    "print(rearrange)"
   ]
  },
  {
   "cell_type": "code",
   "execution_count": null,
   "id": "77a967f8-b04e-4ebf-b4e2-7dafa43d9cc3",
   "metadata": {},
   "outputs": [],
   "source": []
  }
 ],
 "metadata": {
  "kernelspec": {
   "display_name": "Python 3 (ipykernel)",
   "language": "python",
   "name": "python3"
  },
  "language_info": {
   "codemirror_mode": {
    "name": "ipython",
    "version": 3
   },
   "file_extension": ".py",
   "mimetype": "text/x-python",
   "name": "python",
   "nbconvert_exporter": "python",
   "pygments_lexer": "ipython3",
   "version": "3.10.6"
  }
 },
 "nbformat": 4,
 "nbformat_minor": 5
}
